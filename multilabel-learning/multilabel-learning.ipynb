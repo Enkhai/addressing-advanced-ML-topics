{
 "cells": [
  {
   "cell_type": "markdown",
   "metadata": {},
   "source": [
    "# Multi-label learning"
   ]
  },
  {
   "cell_type": "markdown",
   "metadata": {},
   "source": [
    "## Exploratory Data Analysis"
   ]
  },
  {
   "cell_type": "code",
   "execution_count": 1,
   "metadata": {},
   "outputs": [],
   "source": [
    "import json\n",
    "import pandas as pd\n",
    "import os\n",
    "import matplotlib.pyplot as plt\n",
    "plt.rc('font', size=12)"
   ]
  },
  {
   "cell_type": "code",
   "execution_count": 2,
   "metadata": {},
   "outputs": [],
   "source": [
    "def load_movies(path):\n",
    "    df = pd.read_csv(path)\n",
    "    df['release_date'] = pd.to_datetime(df['release_date']).apply(lambda x: x.date())\n",
    "    json_columns = ['genres', 'keywords', 'production_countries', 'production_companies', 'spoken_languages']\n",
    "    for column in json_columns:\n",
    "        df[column] = df[column].apply(json.loads)\n",
    "    return df\n",
    "\n",
    "def load_credits(path):\n",
    "    df = pd.read_csv(path)\n",
    "    json_columns = ['cast', 'crew']\n",
    "    for column in json_columns:\n",
    "        df[column] = df[column].apply(json.loads)\n",
    "    return df"
   ]
  },
  {
   "cell_type": "code",
   "execution_count": 3,
   "metadata": {},
   "outputs": [
    {
     "data": {
      "text/plain": [
       "['tmdb_5000_credits.csv', 'tmdb_5000_movies.csv']"
      ]
     },
     "execution_count": 3,
     "metadata": {},
     "output_type": "execute_result"
    }
   ],
   "source": [
    "dataset_folder = '../datasets/TMDB_5000/'\n",
    "\n",
    "os.listdir(dataset_folder)"
   ]
  },
  {
   "cell_type": "code",
   "execution_count": 4,
   "metadata": {},
   "outputs": [
    {
     "data": {
      "text/html": [
       "<div>\n",
       "<style scoped>\n",
       "    .dataframe tbody tr th:only-of-type {\n",
       "        vertical-align: middle;\n",
       "    }\n",
       "\n",
       "    .dataframe tbody tr th {\n",
       "        vertical-align: top;\n",
       "    }\n",
       "\n",
       "    .dataframe thead th {\n",
       "        text-align: right;\n",
       "    }\n",
       "</style>\n",
       "<table border=\"1\" class=\"dataframe\">\n",
       "  <thead>\n",
       "    <tr style=\"text-align: right;\">\n",
       "      <th></th>\n",
       "      <th>id</th>\n",
       "      <th>title</th>\n",
       "      <th>genres</th>\n",
       "      <th>overview</th>\n",
       "    </tr>\n",
       "  </thead>\n",
       "  <tbody>\n",
       "    <tr>\n",
       "      <th>0</th>\n",
       "      <td>19995</td>\n",
       "      <td>Avatar</td>\n",
       "      <td>[{'id': 28, 'name': 'Action'}, {'id': 12, 'nam...</td>\n",
       "      <td>In the 22nd century, a paraplegic Marine is di...</td>\n",
       "    </tr>\n",
       "    <tr>\n",
       "      <th>1</th>\n",
       "      <td>285</td>\n",
       "      <td>Pirates of the Caribbean: At World's End</td>\n",
       "      <td>[{'id': 12, 'name': 'Adventure'}, {'id': 14, '...</td>\n",
       "      <td>Captain Barbossa, long believed to be dead, ha...</td>\n",
       "    </tr>\n",
       "    <tr>\n",
       "      <th>2</th>\n",
       "      <td>206647</td>\n",
       "      <td>Spectre</td>\n",
       "      <td>[{'id': 28, 'name': 'Action'}, {'id': 12, 'nam...</td>\n",
       "      <td>A cryptic message from Bond’s past sends him o...</td>\n",
       "    </tr>\n",
       "    <tr>\n",
       "      <th>3</th>\n",
       "      <td>49026</td>\n",
       "      <td>The Dark Knight Rises</td>\n",
       "      <td>[{'id': 28, 'name': 'Action'}, {'id': 80, 'nam...</td>\n",
       "      <td>Following the death of District Attorney Harve...</td>\n",
       "    </tr>\n",
       "    <tr>\n",
       "      <th>4</th>\n",
       "      <td>49529</td>\n",
       "      <td>John Carter</td>\n",
       "      <td>[{'id': 28, 'name': 'Action'}, {'id': 12, 'nam...</td>\n",
       "      <td>John Carter is a war-weary, former military ca...</td>\n",
       "    </tr>\n",
       "  </tbody>\n",
       "</table>\n",
       "</div>"
      ],
      "text/plain": [
       "       id                                     title  \\\n",
       "0   19995                                    Avatar   \n",
       "1     285  Pirates of the Caribbean: At World's End   \n",
       "2  206647                                   Spectre   \n",
       "3   49026                     The Dark Knight Rises   \n",
       "4   49529                               John Carter   \n",
       "\n",
       "                                              genres  \\\n",
       "0  [{'id': 28, 'name': 'Action'}, {'id': 12, 'nam...   \n",
       "1  [{'id': 12, 'name': 'Adventure'}, {'id': 14, '...   \n",
       "2  [{'id': 28, 'name': 'Action'}, {'id': 12, 'nam...   \n",
       "3  [{'id': 28, 'name': 'Action'}, {'id': 80, 'nam...   \n",
       "4  [{'id': 28, 'name': 'Action'}, {'id': 12, 'nam...   \n",
       "\n",
       "                                            overview  \n",
       "0  In the 22nd century, a paraplegic Marine is di...  \n",
       "1  Captain Barbossa, long believed to be dead, ha...  \n",
       "2  A cryptic message from Bond’s past sends him o...  \n",
       "3  Following the death of District Attorney Harve...  \n",
       "4  John Carter is a war-weary, former military ca...  "
      ]
     },
     "execution_count": 4,
     "metadata": {},
     "output_type": "execute_result"
    }
   ],
   "source": [
    "df_movies = load_movies(dataset_folder + 'tmdb_5000_movies.csv')\n",
    "\n",
    "columns_of_interest = ['id', 'title', 'genres', 'overview']\n",
    "df_movies = df_movies[columns_of_interest]\n",
    "df_movies = df_movies[df_movies['genres'].str.len() != 0]\n",
    "df_movies = df_movies[df_movies['overview'].notnull()].reset_index(drop=True)\n",
    "\n",
    "df_movies.head()"
   ]
  },
  {
   "cell_type": "code",
   "execution_count": 5,
   "metadata": {},
   "outputs": [],
   "source": [
    "genres_count = {}\n",
    "\n",
    "for index, row in df_movies.iterrows():\n",
    "    for genre in row['genres']:\n",
    "        genre_name = genre['name']\n",
    "        genres_count[genre_name] = genres_count[genre_name] + 1 if genre_name in genres_count else 1\n",
    "        \n",
    "genres_count = dict(sorted(genres_count.items(), key=lambda x:x[1], reverse=False))"
   ]
  },
  {
   "cell_type": "code",
   "execution_count": 6,
   "metadata": {},
   "outputs": [
    {
     "data": {
      "text/plain": [
       "{'TV Movie': 8,\n",
       " 'Foreign': 34,\n",
       " 'Western': 82,\n",
       " 'Documentary': 108,\n",
       " 'War': 144,\n",
       " 'Music': 185,\n",
       " 'History': 197,\n",
       " 'Animation': 234,\n",
       " 'Mystery': 348,\n",
       " 'Fantasy': 424,\n",
       " 'Family': 513,\n",
       " 'Horror': 519,\n",
       " 'Science Fiction': 535,\n",
       " 'Crime': 696,\n",
       " 'Adventure': 790,\n",
       " 'Romance': 894,\n",
       " 'Action': 1154,\n",
       " 'Thriller': 1274,\n",
       " 'Comedy': 1722,\n",
       " 'Drama': 2296}"
      ]
     },
     "execution_count": 6,
     "metadata": {},
     "output_type": "execute_result"
    }
   ],
   "source": [
    "genres_count"
   ]
  },
  {
   "cell_type": "code",
   "execution_count": 7,
   "metadata": {
    "scrolled": false
   },
   "outputs": [
    {
     "data": {
      "image/png": "[encoded data removed]",
      "text/plain": [
       "<Figure size 864x576 with 1 Axes>"
      ]
     },
     "metadata": {
      "needs_background": "light"
     },
     "output_type": "display_data"
    }
   ],
   "source": [
    "plt.figure(figsize=(12,8))\n",
    "plt.barh(list(genres_count.keys()), genres_count.values())\n",
    "plt.show()"
   ]
  },
  {
   "cell_type": "markdown",
   "metadata": {},
   "source": [
    "## Data Preprocessing"
   ]
  },
  {
   "cell_type": "markdown",
   "metadata": {},
   "source": [
    "### Tokenization"
   ]
  },
  {
   "cell_type": "code",
   "execution_count": 8,
   "metadata": {},
   "outputs": [
    {
     "name": "stderr",
     "output_type": "stream",
     "text": [
      "[nltk_data] Downloading package wordnet to\n",
      "[nltk_data]     C:\\Users\\Ceyx\\AppData\\Roaming\\nltk_data...\n",
      "[nltk_data]   Package wordnet is already up-to-date!\n"
     ]
    },
    {
     "data": {
      "text/plain": [
       "True"
      ]
     },
     "execution_count": 8,
     "metadata": {},
     "output_type": "execute_result"
    }
   ],
   "source": [
    "import gensim\n",
    "import nltk\n",
    "\n",
    "from gensim.utils import simple_preprocess\n",
    "from gensim.parsing.preprocessing import STOPWORDS\n",
    "from nltk.stem import WordNetLemmatizer, SnowballStemmer\n",
    "from nltk.stem.porter import *\n",
    "\n",
    "stemmer = SnowballStemmer('english')\n",
    "lemmatizer = WordNetLemmatizer()\n",
    "nltk.download('wordnet')"
   ]
  },
  {
   "cell_type": "code",
   "execution_count": 9,
   "metadata": {},
   "outputs": [],
   "source": [
    "def tokenize(text):\n",
    "    result = []\n",
    "    for token in simple_preprocess(text):\n",
    "        if token not in STOPWORDS and len(token) > 3:\n",
    "            result.append(stemmer.stem(lemmatizer.lemmatize(token,'v')))\n",
    "    return result"
   ]
  },
  {
   "cell_type": "code",
   "execution_count": 10,
   "metadata": {},
   "outputs": [
    {
     "data": {
      "text/plain": [
       "(id                                                      13700\n",
       " title                                       Home on the Range\n",
       " genres      [{'id': 16, 'name': 'Animation'}, {'id': 10751...\n",
       " overview    When a greedy outlaw schemes to take possessio...\n",
       " Name: 255, dtype: object,\n",
       " 'When a greedy outlaw schemes to take possession of the \"Patch Of Heaven\" dairy farm, three determined cows, a karate-kicking stallion and a colorful corral of critters join forces to save their home. The stakes are sky-high as this unlikely animal alliance risk their hides and match wits with a mysterious band of bad guys.')"
      ]
     },
     "execution_count": 10,
     "metadata": {},
     "output_type": "execute_result"
    }
   ],
   "source": [
    "movie = df_movies.loc[255]\n",
    "movie, movie['overview']"
   ]
  },
  {
   "cell_type": "code",
   "execution_count": 11,
   "metadata": {
    "scrolled": true
   },
   "outputs": [
    {
     "data": {
      "text/plain": [
       "['greedi',\n",
       " 'outlaw',\n",
       " 'scheme',\n",
       " 'possess',\n",
       " 'patch',\n",
       " 'heaven',\n",
       " 'dairi',\n",
       " 'farm',\n",
       " 'determin',\n",
       " 'cow',\n",
       " 'karat',\n",
       " 'kick',\n",
       " 'stallion',\n",
       " 'color',\n",
       " 'corral',\n",
       " 'critter',\n",
       " 'join',\n",
       " 'forc',\n",
       " 'save',\n",
       " 'home',\n",
       " 'stake',\n",
       " 'high',\n",
       " 'unlik',\n",
       " 'anim',\n",
       " 'allianc',\n",
       " 'risk',\n",
       " 'hide',\n",
       " 'match',\n",
       " 'wit',\n",
       " 'mysteri',\n",
       " 'band',\n",
       " 'guy']"
      ]
     },
     "execution_count": 11,
     "metadata": {},
     "output_type": "execute_result"
    }
   ],
   "source": [
    "tokenize(movie['overview'])"
   ]
  },
  {
   "cell_type": "code",
   "execution_count": 12,
   "metadata": {},
   "outputs": [
    {
     "data": {
      "text/plain": [
       "0       [centuri, parapleg, marin, dispatch, moon, pan...\n",
       "1       [captain, barbossa, long, believ, dead, come, ...\n",
       "2       [cryptic, messag, bond, past, send, trail, unc...\n",
       "3       [follow, death, district, attorney, harvey, de...\n",
       "4       [john, carter, weari, militari, captain, inexp...\n",
       "                              ...                        \n",
       "4767    [adam, secur, guard, travel, california, phili...\n",
       "4768    [mariachi, want, play, guitar, carri, famili, ...\n",
       "4769    [newlyw, coupl, honeymoon, upend, arriv, respe...\n",
       "4770    [sign, seal, deliv, introduc, dedic, quartet, ...\n",
       "4771    [second, grade, brian, herzling, crush, draw, ...\n",
       "Name: overview, Length: 4772, dtype: object"
      ]
     },
     "execution_count": 12,
     "metadata": {},
     "output_type": "execute_result"
    }
   ],
   "source": [
    "movie_overviews = df_movies['overview'].map(tokenize)\n",
    "movie_overviews"
   ]
  },
  {
   "cell_type": "markdown",
   "metadata": {},
   "source": [
    "### Bag-of-Words & TfIdf"
   ]
  },
  {
   "cell_type": "code",
   "execution_count": 13,
   "metadata": {},
   "outputs": [],
   "source": [
    "from gensim.corpora import Dictionary\n",
    "from gensim.models import TfidfModel\n",
    "from gensim.matutils import corpus2dense"
   ]
  },
  {
   "cell_type": "code",
   "execution_count": 14,
   "metadata": {},
   "outputs": [],
   "source": [
    "dictionary = Dictionary(movie_overviews)\n",
    "dictionary.filter_extremes(no_below=10, no_above=0.5, keep_n=100000)"
   ]
  },
  {
   "cell_type": "code",
   "execution_count": 15,
   "metadata": {
    "scrolled": true
   },
   "outputs": [
    {
     "data": {
      "text/plain": [
       "[(26, 1),\n",
       " (57, 1),\n",
       " (113, 1),\n",
       " (129, 1),\n",
       " (132, 1),\n",
       " (199, 1),\n",
       " (226, 1),\n",
       " (235, 1),\n",
       " (241, 1),\n",
       " (288, 1),\n",
       " (319, 1),\n",
       " (450, 1),\n",
       " (471, 1),\n",
       " (509, 1),\n",
       " (536, 1),\n",
       " (566, 1),\n",
       " (775, 1),\n",
       " (1173, 1),\n",
       " (1297, 1),\n",
       " (1341, 1),\n",
       " (1435, 1),\n",
       " (1436, 1),\n",
       " (1437, 1),\n",
       " (1438, 1)]"
      ]
     },
     "execution_count": 15,
     "metadata": {},
     "output_type": "execute_result"
    }
   ],
   "source": [
    "bow_corpus = [dictionary.doc2bow(doc) for doc in movie_overviews]\n",
    "bow_corpus[255]"
   ]
  },
  {
   "cell_type": "code",
   "execution_count": 16,
   "metadata": {
    "scrolled": true
   },
   "outputs": [
    {
     "data": {
      "text/plain": [
       "(4772, 100000)"
      ]
     },
     "execution_count": 16,
     "metadata": {},
     "output_type": "execute_result"
    }
   ],
   "source": [
    "tfidf_corpus = TfidfModel(bow_corpus)[bow_corpus]\n",
    "tfidf_corpus = corpus2dense(tfidf_corpus, num_terms=100000, num_docs=len(tfidf_corpus)).T\n",
    "tfidf_corpus.shape"
   ]
  },
  {
   "cell_type": "markdown",
   "metadata": {},
   "source": [
    "## Multi-label genre overview classification"
   ]
  },
  {
   "cell_type": "markdown",
   "metadata": {},
   "source": [
    "### Binary relevance - Baseline"
   ]
  },
  {
   "cell_type": "code",
   "execution_count": 21,
   "metadata": {},
   "outputs": [],
   "source": [
    "import numpy as np\n",
    "from sklearn.multioutput import MultiOutputClassifier\n",
    "from sklearn.naive_bayes import GaussianNB\n",
    "from sklearn.model_selection import train_test_split\n",
    "from joblib import dump, load\n",
    "from sklearn import metrics"
   ]
  },
  {
   "cell_type": "code",
   "execution_count": 22,
   "metadata": {},
   "outputs": [],
   "source": [
    "genres = list(reversed(list(genres_count)))\n",
    "\n",
    "x, y = [], []\n",
    "for index, row in df_movies.iterrows():\n",
    "    x.append(tfidf_corpus[index])\n",
    "    ohe = np.zeros(len(genres))\n",
    "    y_indices = [genres.index(genre['name']) for genre in row['genres']]\n",
    "    ohe[y_indices] = 1\n",
    "    y.append(ohe)\n",
    "y = np.matrix(y)"
   ]
  },
  {
   "cell_type": "code",
   "execution_count": 23,
   "metadata": {},
   "outputs": [
    {
     "data": {
      "text/plain": [
       "(4056, 716)"
      ]
     },
     "execution_count": 23,
     "metadata": {},
     "output_type": "execute_result"
    }
   ],
   "source": [
    "x_train, x_test, y_train, y_test = train_test_split(x, y, test_size=0.15)\n",
    "len(y_train), len(y_test)"
   ]
  },
  {
   "cell_type": "code",
   "execution_count": 24,
   "metadata": {},
   "outputs": [],
   "source": [
    "def get_class_prob(model, sample):\n",
    "    probs = model.predict_proba([sample]).T\n",
    "    classes = model.classes_\n",
    "    \n",
    "    output = pd.DataFrame(data=[classes, probs]).T\n",
    "    output.columns = ['genre', 'probability']\n",
    "    output['probability'] = output.apply(lambda x: x['probability'][0], axis=1)\n",
    "    return output.sort_values(by='probability', ascending=False)"
   ]
  },
  {
   "cell_type": "code",
   "execution_count": 26,
   "metadata": {
    "scrolled": true
   },
   "outputs": [
    {
     "data": {
      "text/plain": [
       "['multioutput_naivebayes.model']"
      ]
     },
     "execution_count": 26,
     "metadata": {},
     "output_type": "execute_result"
    }
   ],
   "source": [
    "clf = MultiOutputClassifier(GaussianNB()).fit(x_train, y_train)\n",
    "dump(clf, 'multioutput_naivebayes.model')"
   ]
  },
  {
   "cell_type": "code",
   "execution_count": 27,
   "metadata": {},
   "outputs": [],
   "source": [
    "clf = load('multioutput_naivebayes.model')"
   ]
  },
  {
   "cell_type": "code",
   "execution_count": 28,
   "metadata": {},
   "outputs": [],
   "source": [
    "y_test_predicted = clf.predict(x_test)"
   ]
  },
  {
   "cell_type": "code",
   "execution_count": 29,
   "metadata": {},
   "outputs": [
    {
     "name": "stdout",
     "output_type": "stream",
     "text": [
      "Hamming: 0.2108240223463687\n",
      "Accuracy: 0.018156424581005588\n",
      "Precision: 0.36211723929847495\n",
      "Recall: 0.6274740622505987\n",
      "F1: 0.4155049388392307\n"
     ]
    },
    {
     "name": "stderr",
     "output_type": "stream",
     "text": [
      "d:\\anaconda3\\envs\\multilearn\\lib\\site-packages\\sklearn\\metrics\\_classification.py:1245: UndefinedMetricWarning: Precision is ill-defined and being set to 0.0 in samples with no predicted labels. Use `zero_division` parameter to control this behavior.\n",
      "  _warn_prf(average, modifier, msg_start, len(result))\n"
     ]
    }
   ],
   "source": [
    "print('Hamming:', metrics.hamming_loss(y_test, y_test_predicted))\n",
    "print('Accuracy:', metrics.accuracy_score(y_test, y_test_predicted))\n",
    "print('Precision:', metrics.precision_score(y_test, y_test_predicted, average='samples'))\n",
    "print('Recall:', metrics.recall_score(y_test, y_test_predicted, average='samples'))\n",
    "print('F1:', metrics.f1_score(y_test, y_test_predicted, average='samples'))"
   ]
  },
  {
   "cell_type": "markdown",
   "metadata": {},
   "source": [
    "### Random K-Labelsets"
   ]
  },
  {
   "cell_type": "code",
   "execution_count": 30,
   "metadata": {},
   "outputs": [],
   "source": [
    "from skmultilearn.ensemble import RakelD"
   ]
  },
  {
   "cell_type": "code",
   "execution_count": 36,
   "metadata": {},
   "outputs": [
    {
     "name": "stderr",
     "output_type": "stream",
     "text": [
      "d:\\anaconda3\\envs\\multilearn\\lib\\site-packages\\skmultilearn\\cluster\\random.py:129: VisibleDeprecationWarning: Creating an ndarray from ragged nested sequences (which is a list-or-tuple of lists-or-tuples-or ndarrays with different lengths or shapes) is deprecated. If you meant to do this, you must specify 'dtype=object' when creating the ndarray.\n",
      "  return np.array(label_sets)\n"
     ]
    },
    {
     "data": {
      "text/plain": [
       "['rakel_naivebayes.model']"
      ]
     },
     "execution_count": 36,
     "metadata": {},
     "output_type": "execute_result"
    }
   ],
   "source": [
    "clf = RakelD(GaussianNB()).fit(x_train, y_train)\n",
    "dump(clf, 'rakel_naivebayes.model')"
   ]
  },
  {
   "cell_type": "code",
   "execution_count": 37,
   "metadata": {},
   "outputs": [],
   "source": [
    "clf = load('rakel_naivebayes.model')"
   ]
  },
  {
   "cell_type": "code",
   "execution_count": 38,
   "metadata": {},
   "outputs": [],
   "source": [
    "y_test_predicted = clf.predict(x_test)"
   ]
  },
  {
   "cell_type": "code",
   "execution_count": 39,
   "metadata": {},
   "outputs": [
    {
     "name": "stdout",
     "output_type": "stream",
     "text": [
      "Hamming: 0.16801675977653632\n",
      "Accuracy: 0.02653631284916201\n",
      "Precision: 0.40137291712012385\n",
      "Recall: 0.5397845171588188\n",
      "F1: 0.42223552363217165\n"
     ]
    },
    {
     "name": "stderr",
     "output_type": "stream",
     "text": [
      "d:\\anaconda3\\envs\\multilearn\\lib\\site-packages\\sklearn\\metrics\\_classification.py:1245: UndefinedMetricWarning: Precision is ill-defined and being set to 0.0 in samples with no predicted labels. Use `zero_division` parameter to control this behavior.\n",
      "  _warn_prf(average, modifier, msg_start, len(result))\n"
     ]
    }
   ],
   "source": [
    "print('Hamming:', metrics.hamming_loss(y_test, y_test_predicted))\n",
    "print('Accuracy:', metrics.accuracy_score(y_test, y_test_predicted))\n",
    "print('Precision:', metrics.precision_score(y_test, y_test_predicted, average='samples'))\n",
    "print('Recall:', metrics.recall_score(y_test, y_test_predicted, average='samples'))\n",
    "print('F1:', metrics.f1_score(y_test, y_test_predicted, average='samples'))"
   ]
  },
  {
   "cell_type": "code",
   "execution_count": null,
   "metadata": {},
   "outputs": [],
   "source": [
    "!"
   ]
  }
 ],
 "metadata": {
  "kernelspec": {
   "display_name": "Python 3",
   "language": "python",
   "name": "python3"
  },
  "language_info": {
   "codemirror_mode": {
    "name": "ipython",
    "version": 3
   },
   "file_extension": ".py",
   "mimetype": "text/x-python",
   "name": "python",
   "nbconvert_exporter": "python",
   "pygments_lexer": "ipython3",
   "version": "3.7.10"
  }
 },
 "nbformat": 4,
 "nbformat_minor": 4
}
